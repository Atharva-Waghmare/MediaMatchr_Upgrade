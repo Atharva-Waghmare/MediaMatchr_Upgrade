{
 "cells": [
  {
   "cell_type": "code",
   "id": "initial_id",
   "metadata": {
    "collapsed": true,
    "ExecuteTime": {
     "end_time": "2025-09-26T19:59:20.413842Z",
     "start_time": "2025-09-26T19:59:20.332488Z"
    }
   },
   "source": [
    "import pandas as pd\n",
    "movies=pd.read_csv('movies_with_cat_new.csv')"
   ],
   "outputs": [],
   "execution_count": 40
  },
  {
   "metadata": {
    "ExecuteTime": {
     "end_time": "2025-09-26T19:59:22.236961Z",
     "start_time": "2025-09-26T19:59:20.429127Z"
    }
   },
   "cell_type": "code",
   "source": [
    "from transformers import pipeline\n",
    "classifier = pipeline(\"text-classification\", model=\"j-hartmann/emotion-english-distilroberta-base\",\n",
    "                      top_k=None,\n",
    "                      device=0)\n",
    "classifier(\"I love this!\")"
   ],
   "id": "d9dfedec9b934e6c",
   "outputs": [
    {
     "name": "stderr",
     "output_type": "stream",
     "text": [
      "Device set to use cpu\n"
     ]
    },
    {
     "data": {
      "text/plain": [
       "[[{'label': 'joy', 'score': 0.9771687984466553},\n",
       "  {'label': 'surprise', 'score': 0.008528688922524452},\n",
       "  {'label': 'neutral', 'score': 0.005764586851000786},\n",
       "  {'label': 'anger', 'score': 0.004419783595949411},\n",
       "  {'label': 'sadness', 'score': 0.002092392183840275},\n",
       "  {'label': 'disgust', 'score': 0.0016119893407449126},\n",
       "  {'label': 'fear', 'score': 0.0004138524236623198}]]"
      ]
     },
     "execution_count": 41,
     "metadata": {},
     "output_type": "execute_result"
    }
   ],
   "execution_count": 41
  },
  {
   "metadata": {
    "ExecuteTime": {
     "end_time": "2025-09-26T19:59:22.307216Z",
     "start_time": "2025-09-26T19:59:22.269627Z"
    }
   },
   "cell_type": "code",
   "source": "classifier(movies['description'][0])",
   "id": "65ad80a6a5350d3e",
   "outputs": [
    {
     "data": {
      "text/plain": [
       "[[{'label': 'fear', 'score': 0.9261465072631836},\n",
       "  {'label': 'anger', 'score': 0.024331700056791306},\n",
       "  {'label': 'neutral', 'score': 0.02144649624824524},\n",
       "  {'label': 'sadness', 'score': 0.01804129220545292},\n",
       "  {'label': 'disgust', 'score': 0.006444478873163462},\n",
       "  {'label': 'surprise', 'score': 0.0026720319874584675},\n",
       "  {'label': 'joy', 'score': 0.0009175881859846413}]]"
      ]
     },
     "execution_count": 42,
     "metadata": {},
     "output_type": "execute_result"
    }
   ],
   "execution_count": 42
  },
  {
   "metadata": {
    "ExecuteTime": {
     "end_time": "2025-09-26T19:59:22.318639Z",
     "start_time": "2025-09-26T19:59:22.314571Z"
    }
   },
   "cell_type": "code",
   "source": "movies['description'][0]",
   "id": "bc15a35f9c1f8078",
   "outputs": [
    {
     "data": {
      "text/plain": [
       "'Peter Parker is unmasked and no longer able to separate his normal life from the high-stakes of being a super-hero. When he asks for help from Doctor Strange the stakes become even more dangerous, forcing him to discover what it truly means to be Spider-Man.'"
      ]
     },
     "execution_count": 43,
     "metadata": {},
     "output_type": "execute_result"
    }
   ],
   "execution_count": 43
  },
  {
   "metadata": {
    "ExecuteTime": {
     "end_time": "2025-09-26T19:59:22.340491Z",
     "start_time": "2025-09-26T19:59:22.329843Z"
    }
   },
   "cell_type": "code",
   "source": [
    "import numpy as np\n",
    "emotion_labels=['anger', 'disgust', 'fear', 'joy', 'neutral', 'sadness', 'surprise']\n",
    "ids=[]\n",
    "emotion_scores={label:[] for label in emotion_labels}\n",
    "\n",
    "\n",
    "def calculate_max_emotion_scores(predictions):\n",
    "    per_emotion_scores = {label: [] for label in emotion_labels}\n",
    "    for prediction in predictions:\n",
    "        sorted_predictions = sorted(prediction, key=lambda x: x['label'])\n",
    "        for index, label in enumerate(emotion_labels):\n",
    "            per_emotion_scores[label].append(sorted_predictions[index]['score'])\n",
    "    return {label: np.max(scores) for label, scores in per_emotion_scores.items()}\n"
   ],
   "id": "541a1ab3907c091d",
   "outputs": [],
   "execution_count": 44
  },
  {
   "metadata": {
    "ExecuteTime": {
     "end_time": "2025-09-26T19:59:23.453297Z",
     "start_time": "2025-09-26T19:59:22.346983Z"
    }
   },
   "cell_type": "code",
   "source": [
    "for i in range(20):\n",
    "    ids.append(movies['movie_id'][i])\n",
    "    sentences = movies['description'][i].split(\".\")\n",
    "    predictions = classifier(sentences)\n",
    "    max_scores = calculate_max_emotion_scores(predictions)\n",
    "    for label in emotion_labels:\n",
    "        emotion_scores[label].append(max_scores[label])"
   ],
   "id": "ade28990719f2f35",
   "outputs": [],
   "execution_count": 45
  },
  {
   "metadata": {
    "ExecuteTime": {
     "end_time": "2025-09-26T19:59:23.493609Z",
     "start_time": "2025-09-26T19:59:23.488574Z"
    }
   },
   "cell_type": "code",
   "source": "emotion_scores",
   "id": "6a900af6465571ab",
   "outputs": [
    {
     "data": {
      "text/plain": [
       "{'anger': [np.float64(0.07944381982088089),\n",
       "  np.float64(0.1881798803806305),\n",
       "  np.float64(0.06413359194993973),\n",
       "  np.float64(0.06413359194993973),\n",
       "  np.float64(0.24244974553585052),\n",
       "  np.float64(0.13221636414527893),\n",
       "  np.float64(0.1261821687221527),\n",
       "  np.float64(0.7532293200492859),\n",
       "  np.float64(0.06413359194993973),\n",
       "  np.float64(0.3216216564178467),\n",
       "  np.float64(0.06413359194993973),\n",
       "  np.float64(0.15098333358764648),\n",
       "  np.float64(0.20045159757137299),\n",
       "  np.float64(0.06413359194993973),\n",
       "  np.float64(0.0767819806933403),\n",
       "  np.float64(0.06413359194993973),\n",
       "  np.float64(0.09325892478227615),\n",
       "  np.float64(0.24757660925388336),\n",
       "  np.float64(0.06413359194993973),\n",
       "  np.float64(0.5056110620498657)],\n",
       " 'disgust': [np.float64(0.10400661826133728),\n",
       "  np.float64(0.4141789376735687),\n",
       "  np.float64(0.10400661826133728),\n",
       "  np.float64(0.10400661826133728),\n",
       "  np.float64(0.2062649428844452),\n",
       "  np.float64(0.10400661826133728),\n",
       "  np.float64(0.16332010924816132),\n",
       "  np.float64(0.21924985945224762),\n",
       "  np.float64(0.10400661826133728),\n",
       "  np.float64(0.11745103448629379),\n",
       "  np.float64(0.10400661826133728),\n",
       "  np.float64(0.10400661826133728),\n",
       "  np.float64(0.1830861121416092),\n",
       "  np.float64(0.10400661826133728),\n",
       "  np.float64(0.10400661826133728),\n",
       "  np.float64(0.5668116807937622),\n",
       "  np.float64(0.21558651328086853),\n",
       "  np.float64(0.10706020146608353),\n",
       "  np.float64(0.10400661826133728),\n",
       "  np.float64(0.10435505956411362)],\n",
       " 'fear': [np.float64(0.892590343952179),\n",
       "  np.float64(0.14399752020835876),\n",
       "  np.float64(0.9870162606239319),\n",
       "  np.float64(0.9570925235748291),\n",
       "  np.float64(0.13970637321472168),\n",
       "  np.float64(0.9441530108451843),\n",
       "  np.float64(0.615581750869751),\n",
       "  np.float64(0.9719826579093933),\n",
       "  np.float64(0.7786306142807007),\n",
       "  np.float64(0.45190855860710144),\n",
       "  np.float64(0.9433143734931946),\n",
       "  np.float64(0.7797980308532715),\n",
       "  np.float64(0.5377059578895569),\n",
       "  np.float64(0.051362793892621994),\n",
       "  np.float64(0.1839694380760193),\n",
       "  np.float64(0.17659226059913635),\n",
       "  np.float64(0.41562619805336),\n",
       "  np.float64(0.061127662658691406),\n",
       "  np.float64(0.8668529391288757),\n",
       "  np.float64(0.08217650651931763)],\n",
       " 'joy': [np.float64(0.04056438058614731),\n",
       "  np.float64(0.04056438058614731),\n",
       "  np.float64(0.04056438058614731),\n",
       "  np.float64(0.8767213821411133),\n",
       "  np.float64(0.04056438058614731),\n",
       "  np.float64(0.04056438058614731),\n",
       "  np.float64(0.04056438058614731),\n",
       "  np.float64(0.04056438058614731),\n",
       "  np.float64(0.04056438058614731),\n",
       "  np.float64(0.04780619218945503),\n",
       "  np.float64(0.04056438058614731),\n",
       "  np.float64(0.04056438058614731),\n",
       "  np.float64(0.04056438058614731),\n",
       "  np.float64(0.15513353049755096),\n",
       "  np.float64(0.04056438058614731),\n",
       "  np.float64(0.04056438058614731),\n",
       "  np.float64(0.04056438058614731),\n",
       "  np.float64(0.04056438058614731),\n",
       "  np.float64(0.04056438058614731),\n",
       "  np.float64(0.8303864002227783)],\n",
       " 'neutral': [np.float64(0.5494771003723145),\n",
       "  np.float64(0.5494771003723145),\n",
       "  np.float64(0.5494771003723145),\n",
       "  np.float64(0.6989274621009827),\n",
       "  np.float64(0.5494771003723145),\n",
       "  np.float64(0.5494771003723145),\n",
       "  np.float64(0.5494771003723145),\n",
       "  np.float64(0.5494771003723145),\n",
       "  np.float64(0.9416287541389465),\n",
       "  np.float64(0.43044939637184143),\n",
       "  np.float64(0.9419488310813904),\n",
       "  np.float64(0.5494771003723145),\n",
       "  np.float64(0.5494771003723145),\n",
       "  np.float64(0.7641321420669556),\n",
       "  np.float64(0.8650382161140442),\n",
       "  np.float64(0.5494771003723145),\n",
       "  np.float64(0.5494771003723145),\n",
       "  np.float64(0.5494771003723145),\n",
       "  np.float64(0.5494771003723145),\n",
       "  np.float64(0.8012720942497253)],\n",
       " 'sadness': [np.float64(0.26904451847076416),\n",
       "  np.float64(0.11169007420539856),\n",
       "  np.float64(0.11169007420539856),\n",
       "  np.float64(0.11169007420539856),\n",
       "  np.float64(0.11169007420539856),\n",
       "  np.float64(0.11169007420539856),\n",
       "  np.float64(0.11169007420539856),\n",
       "  np.float64(0.11169007420539856),\n",
       "  np.float64(0.11169007420539856),\n",
       "  np.float64(0.12533026933670044),\n",
       "  np.float64(0.11169007420539856),\n",
       "  np.float64(0.11169007420539856),\n",
       "  np.float64(0.11169007420539856),\n",
       "  np.float64(0.11169007420539856),\n",
       "  np.float64(0.11169007420539856),\n",
       "  np.float64(0.11169007420539856),\n",
       "  np.float64(0.476803719997406),\n",
       "  np.float64(0.11169007420539856),\n",
       "  np.float64(0.11169007420539856),\n",
       "  np.float64(0.11169007420539856)],\n",
       " 'surprise': [np.float64(0.07876546680927277),\n",
       "  np.float64(0.07876546680927277),\n",
       "  np.float64(0.07876546680927277),\n",
       "  np.float64(0.15599475800991058),\n",
       "  np.float64(0.07876546680927277),\n",
       "  np.float64(0.4883839786052704),\n",
       "  np.float64(0.07876546680927277),\n",
       "  np.float64(0.07876546680927277),\n",
       "  np.float64(0.07876546680927277),\n",
       "  np.float64(0.19071820378303528),\n",
       "  np.float64(0.11842232942581177),\n",
       "  np.float64(0.07876546680927277),\n",
       "  np.float64(0.07876546680927277),\n",
       "  np.float64(0.07876546680927277),\n",
       "  np.float64(0.36903393268585205),\n",
       "  np.float64(0.07876546680927277),\n",
       "  np.float64(0.07876546680927277),\n",
       "  np.float64(0.07876546680927277),\n",
       "  np.float64(0.07876546680927277),\n",
       "  np.float64(0.07876546680927277)]}"
      ]
     },
     "execution_count": 46,
     "metadata": {},
     "output_type": "execute_result"
    }
   ],
   "execution_count": 46
  },
  {
   "metadata": {
    "ExecuteTime": {
     "end_time": "2025-09-26T20:08:32.801506Z",
     "start_time": "2025-09-26T19:59:23.508443Z"
    }
   },
   "cell_type": "code",
   "source": [
    "from tqdm import tqdm\n",
    "\n",
    "emotion_labels=['anger', 'disgust', 'fear', 'joy', 'neutral', 'sadness', 'surprise']\n",
    "ids=[]\n",
    "emotion_scores={label:[] for label in emotion_labels}\n",
    "\n",
    "for i in tqdm(range(len(movies))):\n",
    "    ids.append(movies['movie_id'][i])\n",
    "    sentences = movies['description'][i].split(\".\")\n",
    "    predictions = classifier(sentences)\n",
    "    max_scores = calculate_max_emotion_scores(predictions)\n",
    "    for label in emotion_labels:\n",
    "        emotion_scores[label].append(max_scores[label])"
   ],
   "id": "c306095e4e6f8ad3",
   "outputs": [
    {
     "name": "stderr",
     "output_type": "stream",
     "text": [
      "100%|██████████| 7933/7933 [09:09<00:00, 14.44it/s]\n"
     ]
    }
   ],
   "execution_count": 47
  },
  {
   "metadata": {
    "ExecuteTime": {
     "end_time": "2025-09-26T20:08:32.877191Z",
     "start_time": "2025-09-26T20:08:32.854647Z"
    }
   },
   "cell_type": "code",
   "source": [
    "import pandas as pd\n",
    "emotion_df=pd.DataFrame(emotion_scores)\n",
    "emotion_df['movie_id']=ids"
   ],
   "id": "96fb4b4110fb9fc6",
   "outputs": [],
   "execution_count": 48
  },
  {
   "metadata": {
    "ExecuteTime": {
     "end_time": "2025-09-26T20:08:32.894687Z",
     "start_time": "2025-09-26T20:08:32.886051Z"
    }
   },
   "cell_type": "code",
   "source": "emotion_df.head()",
   "id": "9136b6c5c2d7b641",
   "outputs": [
    {
     "data": {
      "text/plain": [
       "      anger   disgust      fear       joy   neutral   sadness  surprise  \\\n",
       "0  0.079444  0.104007  0.892590  0.040564  0.549477  0.269045  0.078765   \n",
       "1  0.188180  0.414179  0.143998  0.040564  0.549477  0.111690  0.078765   \n",
       "2  0.064134  0.104007  0.987016  0.040564  0.549477  0.111690  0.078765   \n",
       "3  0.064134  0.104007  0.957093  0.876721  0.698927  0.111690  0.155995   \n",
       "4  0.242450  0.206265  0.139706  0.040564  0.549477  0.111690  0.078765   \n",
       "\n",
       "   movie_id  \n",
       "0         1  \n",
       "1         2  \n",
       "2         3  \n",
       "3         4  \n",
       "4         5  "
      ],
      "text/html": [
       "<div>\n",
       "<style scoped>\n",
       "    .dataframe tbody tr th:only-of-type {\n",
       "        vertical-align: middle;\n",
       "    }\n",
       "\n",
       "    .dataframe tbody tr th {\n",
       "        vertical-align: top;\n",
       "    }\n",
       "\n",
       "    .dataframe thead th {\n",
       "        text-align: right;\n",
       "    }\n",
       "</style>\n",
       "<table border=\"1\" class=\"dataframe\">\n",
       "  <thead>\n",
       "    <tr style=\"text-align: right;\">\n",
       "      <th></th>\n",
       "      <th>anger</th>\n",
       "      <th>disgust</th>\n",
       "      <th>fear</th>\n",
       "      <th>joy</th>\n",
       "      <th>neutral</th>\n",
       "      <th>sadness</th>\n",
       "      <th>surprise</th>\n",
       "      <th>movie_id</th>\n",
       "    </tr>\n",
       "  </thead>\n",
       "  <tbody>\n",
       "    <tr>\n",
       "      <th>0</th>\n",
       "      <td>0.079444</td>\n",
       "      <td>0.104007</td>\n",
       "      <td>0.892590</td>\n",
       "      <td>0.040564</td>\n",
       "      <td>0.549477</td>\n",
       "      <td>0.269045</td>\n",
       "      <td>0.078765</td>\n",
       "      <td>1</td>\n",
       "    </tr>\n",
       "    <tr>\n",
       "      <th>1</th>\n",
       "      <td>0.188180</td>\n",
       "      <td>0.414179</td>\n",
       "      <td>0.143998</td>\n",
       "      <td>0.040564</td>\n",
       "      <td>0.549477</td>\n",
       "      <td>0.111690</td>\n",
       "      <td>0.078765</td>\n",
       "      <td>2</td>\n",
       "    </tr>\n",
       "    <tr>\n",
       "      <th>2</th>\n",
       "      <td>0.064134</td>\n",
       "      <td>0.104007</td>\n",
       "      <td>0.987016</td>\n",
       "      <td>0.040564</td>\n",
       "      <td>0.549477</td>\n",
       "      <td>0.111690</td>\n",
       "      <td>0.078765</td>\n",
       "      <td>3</td>\n",
       "    </tr>\n",
       "    <tr>\n",
       "      <th>3</th>\n",
       "      <td>0.064134</td>\n",
       "      <td>0.104007</td>\n",
       "      <td>0.957093</td>\n",
       "      <td>0.876721</td>\n",
       "      <td>0.698927</td>\n",
       "      <td>0.111690</td>\n",
       "      <td>0.155995</td>\n",
       "      <td>4</td>\n",
       "    </tr>\n",
       "    <tr>\n",
       "      <th>4</th>\n",
       "      <td>0.242450</td>\n",
       "      <td>0.206265</td>\n",
       "      <td>0.139706</td>\n",
       "      <td>0.040564</td>\n",
       "      <td>0.549477</td>\n",
       "      <td>0.111690</td>\n",
       "      <td>0.078765</td>\n",
       "      <td>5</td>\n",
       "    </tr>\n",
       "  </tbody>\n",
       "</table>\n",
       "</div>"
      ]
     },
     "execution_count": 49,
     "metadata": {},
     "output_type": "execute_result"
    }
   ],
   "execution_count": 49
  },
  {
   "metadata": {
    "ExecuteTime": {
     "end_time": "2025-09-26T20:08:32.950846Z",
     "start_time": "2025-09-26T20:08:32.942089Z"
    }
   },
   "cell_type": "code",
   "source": "movies=pd.merge(movies,emotion_df,on='movie_id')",
   "id": "d7b15f5b8cee2143",
   "outputs": [],
   "execution_count": 50
  },
  {
   "metadata": {
    "ExecuteTime": {
     "end_time": "2025-09-26T20:10:33.341534Z",
     "start_time": "2025-09-26T20:10:33.330997Z"
    }
   },
   "cell_type": "code",
   "source": "movies.head()",
   "id": "e24e40523c036155",
   "outputs": [
    {
     "data": {
      "text/plain": [
       "  release_year                    title  \\\n",
       "0   2021-12-15  Spider-Man: No Way Home   \n",
       "1   2022-03-01               The Batman   \n",
       "2   2022-02-25                  No Exit   \n",
       "3   2021-11-24                  Encanto   \n",
       "4   2021-12-22           The King's Man   \n",
       "\n",
       "                                         description  Popularity  Vote_Count  \\\n",
       "0  Peter Parker is unmasked and no longer able to...    5083.954        8940   \n",
       "1  In his second year of fighting crime, Batman u...    3827.658        1151   \n",
       "2  Stranded at a rest stop in the mountains durin...    2618.087         122   \n",
       "3  The tale of an extraordinary family, the Madri...    2402.201        5076   \n",
       "4  As a collection of history's worst tyrants and...    1895.511        1793   \n",
       "\n",
       "   rating Original_Language                           listed_in  \\\n",
       "0     8.3                en  Action, Adventure, Science Fiction   \n",
       "1     8.1                en            Crime, Mystery, Thriller   \n",
       "2     6.3                en                            Thriller   \n",
       "3     7.7                en  Animation, Comedy, Family, Fantasy   \n",
       "4     7.0                en    Action, Adventure, Thriller, War   \n",
       "\n",
       "                                          Poster_Url  movie_id  \\\n",
       "0  https://image.tmdb.org/t/p/original/1g0dhYtq4i...         1   \n",
       "1  https://image.tmdb.org/t/p/original/74xTEgt7R3...         2   \n",
       "2  https://image.tmdb.org/t/p/original/vDHsLnOWKl...         3   \n",
       "3  https://image.tmdb.org/t/p/original/4j0PNHkMr5...         4   \n",
       "4  https://image.tmdb.org/t/p/original/aq4Pwv5Xeu...         5   \n",
       "\n",
       "                                          tagged_des     anger   disgust  \\\n",
       "0  1 Peter Parker is unmasked and no longer able ...  0.079444  0.104007   \n",
       "1  2 In his second year of fighting crime, Batman...  0.188180  0.414179   \n",
       "2  3 Stranded at a rest stop in the mountains dur...  0.064134  0.104007   \n",
       "3  4 The tale of an extraordinary family, the Mad...  0.064134  0.104007   \n",
       "4  5 As a collection of history's worst tyrants a...  0.242450  0.206265   \n",
       "\n",
       "       fear       joy   neutral   sadness  surprise  \n",
       "0  0.892590  0.040564  0.549477  0.269045  0.078765  \n",
       "1  0.143998  0.040564  0.549477  0.111690  0.078765  \n",
       "2  0.987016  0.040564  0.549477  0.111690  0.078765  \n",
       "3  0.957093  0.876721  0.698927  0.111690  0.155995  \n",
       "4  0.139706  0.040564  0.549477  0.111690  0.078765  "
      ],
      "text/html": [
       "<div>\n",
       "<style scoped>\n",
       "    .dataframe tbody tr th:only-of-type {\n",
       "        vertical-align: middle;\n",
       "    }\n",
       "\n",
       "    .dataframe tbody tr th {\n",
       "        vertical-align: top;\n",
       "    }\n",
       "\n",
       "    .dataframe thead th {\n",
       "        text-align: right;\n",
       "    }\n",
       "</style>\n",
       "<table border=\"1\" class=\"dataframe\">\n",
       "  <thead>\n",
       "    <tr style=\"text-align: right;\">\n",
       "      <th></th>\n",
       "      <th>release_year</th>\n",
       "      <th>title</th>\n",
       "      <th>description</th>\n",
       "      <th>Popularity</th>\n",
       "      <th>Vote_Count</th>\n",
       "      <th>rating</th>\n",
       "      <th>Original_Language</th>\n",
       "      <th>listed_in</th>\n",
       "      <th>Poster_Url</th>\n",
       "      <th>movie_id</th>\n",
       "      <th>tagged_des</th>\n",
       "      <th>anger</th>\n",
       "      <th>disgust</th>\n",
       "      <th>fear</th>\n",
       "      <th>joy</th>\n",
       "      <th>neutral</th>\n",
       "      <th>sadness</th>\n",
       "      <th>surprise</th>\n",
       "    </tr>\n",
       "  </thead>\n",
       "  <tbody>\n",
       "    <tr>\n",
       "      <th>0</th>\n",
       "      <td>2021-12-15</td>\n",
       "      <td>Spider-Man: No Way Home</td>\n",
       "      <td>Peter Parker is unmasked and no longer able to...</td>\n",
       "      <td>5083.954</td>\n",
       "      <td>8940</td>\n",
       "      <td>8.3</td>\n",
       "      <td>en</td>\n",
       "      <td>Action, Adventure, Science Fiction</td>\n",
       "      <td>https://image.tmdb.org/t/p/original/1g0dhYtq4i...</td>\n",
       "      <td>1</td>\n",
       "      <td>1 Peter Parker is unmasked and no longer able ...</td>\n",
       "      <td>0.079444</td>\n",
       "      <td>0.104007</td>\n",
       "      <td>0.892590</td>\n",
       "      <td>0.040564</td>\n",
       "      <td>0.549477</td>\n",
       "      <td>0.269045</td>\n",
       "      <td>0.078765</td>\n",
       "    </tr>\n",
       "    <tr>\n",
       "      <th>1</th>\n",
       "      <td>2022-03-01</td>\n",
       "      <td>The Batman</td>\n",
       "      <td>In his second year of fighting crime, Batman u...</td>\n",
       "      <td>3827.658</td>\n",
       "      <td>1151</td>\n",
       "      <td>8.1</td>\n",
       "      <td>en</td>\n",
       "      <td>Crime, Mystery, Thriller</td>\n",
       "      <td>https://image.tmdb.org/t/p/original/74xTEgt7R3...</td>\n",
       "      <td>2</td>\n",
       "      <td>2 In his second year of fighting crime, Batman...</td>\n",
       "      <td>0.188180</td>\n",
       "      <td>0.414179</td>\n",
       "      <td>0.143998</td>\n",
       "      <td>0.040564</td>\n",
       "      <td>0.549477</td>\n",
       "      <td>0.111690</td>\n",
       "      <td>0.078765</td>\n",
       "    </tr>\n",
       "    <tr>\n",
       "      <th>2</th>\n",
       "      <td>2022-02-25</td>\n",
       "      <td>No Exit</td>\n",
       "      <td>Stranded at a rest stop in the mountains durin...</td>\n",
       "      <td>2618.087</td>\n",
       "      <td>122</td>\n",
       "      <td>6.3</td>\n",
       "      <td>en</td>\n",
       "      <td>Thriller</td>\n",
       "      <td>https://image.tmdb.org/t/p/original/vDHsLnOWKl...</td>\n",
       "      <td>3</td>\n",
       "      <td>3 Stranded at a rest stop in the mountains dur...</td>\n",
       "      <td>0.064134</td>\n",
       "      <td>0.104007</td>\n",
       "      <td>0.987016</td>\n",
       "      <td>0.040564</td>\n",
       "      <td>0.549477</td>\n",
       "      <td>0.111690</td>\n",
       "      <td>0.078765</td>\n",
       "    </tr>\n",
       "    <tr>\n",
       "      <th>3</th>\n",
       "      <td>2021-11-24</td>\n",
       "      <td>Encanto</td>\n",
       "      <td>The tale of an extraordinary family, the Madri...</td>\n",
       "      <td>2402.201</td>\n",
       "      <td>5076</td>\n",
       "      <td>7.7</td>\n",
       "      <td>en</td>\n",
       "      <td>Animation, Comedy, Family, Fantasy</td>\n",
       "      <td>https://image.tmdb.org/t/p/original/4j0PNHkMr5...</td>\n",
       "      <td>4</td>\n",
       "      <td>4 The tale of an extraordinary family, the Mad...</td>\n",
       "      <td>0.064134</td>\n",
       "      <td>0.104007</td>\n",
       "      <td>0.957093</td>\n",
       "      <td>0.876721</td>\n",
       "      <td>0.698927</td>\n",
       "      <td>0.111690</td>\n",
       "      <td>0.155995</td>\n",
       "    </tr>\n",
       "    <tr>\n",
       "      <th>4</th>\n",
       "      <td>2021-12-22</td>\n",
       "      <td>The King's Man</td>\n",
       "      <td>As a collection of history's worst tyrants and...</td>\n",
       "      <td>1895.511</td>\n",
       "      <td>1793</td>\n",
       "      <td>7.0</td>\n",
       "      <td>en</td>\n",
       "      <td>Action, Adventure, Thriller, War</td>\n",
       "      <td>https://image.tmdb.org/t/p/original/aq4Pwv5Xeu...</td>\n",
       "      <td>5</td>\n",
       "      <td>5 As a collection of history's worst tyrants a...</td>\n",
       "      <td>0.242450</td>\n",
       "      <td>0.206265</td>\n",
       "      <td>0.139706</td>\n",
       "      <td>0.040564</td>\n",
       "      <td>0.549477</td>\n",
       "      <td>0.111690</td>\n",
       "      <td>0.078765</td>\n",
       "    </tr>\n",
       "  </tbody>\n",
       "</table>\n",
       "</div>"
      ]
     },
     "execution_count": 54,
     "metadata": {},
     "output_type": "execute_result"
    }
   ],
   "execution_count": 54
  },
  {
   "metadata": {
    "ExecuteTime": {
     "end_time": "2025-09-26T20:08:33.111069Z",
     "start_time": "2025-09-26T20:08:33.101735Z"
    }
   },
   "cell_type": "code",
   "source": "movies['Poster_Url'].value_counts()[movies['Poster_Url'].value_counts() > 2]\n",
   "id": "da3c5c959210133f",
   "outputs": [
    {
     "data": {
      "text/plain": [
       "Series([], Name: count, dtype: int64)"
      ]
     },
     "execution_count": 52,
     "metadata": {},
     "output_type": "execute_result"
    }
   ],
   "execution_count": 52
  },
  {
   "metadata": {
    "ExecuteTime": {
     "end_time": "2025-09-26T20:08:33.360059Z",
     "start_time": "2025-09-26T20:08:33.178979Z"
    }
   },
   "cell_type": "code",
   "source": "movies.to_csv('movies_with_emotion_new.csv', index=False)",
   "id": "4997988f4af12ddd",
   "outputs": [],
   "execution_count": 53
  }
 ],
 "metadata": {
  "kernelspec": {
   "display_name": "Python 3",
   "language": "python",
   "name": "python3"
  },
  "language_info": {
   "codemirror_mode": {
    "name": "ipython",
    "version": 2
   },
   "file_extension": ".py",
   "mimetype": "text/x-python",
   "name": "python",
   "nbconvert_exporter": "python",
   "pygments_lexer": "ipython2",
   "version": "2.7.6"
  }
 },
 "nbformat": 4,
 "nbformat_minor": 5
}
