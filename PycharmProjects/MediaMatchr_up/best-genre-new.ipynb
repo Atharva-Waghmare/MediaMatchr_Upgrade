{
 "cells": [
  {
   "cell_type": "code",
   "id": "initial_id",
   "metadata": {
    "collapsed": true,
    "ExecuteTime": {
     "end_time": "2025-09-27T14:23:00.909473Z",
     "start_time": "2025-09-27T14:22:54.278136Z"
    }
   },
   "source": [
    "from langchain_community.document_loaders import TextLoader\n",
    "from langchain_text_splitters import CharacterTextSplitter\n",
    "from langchain_community.embeddings import HuggingFaceEmbeddings\n",
    "from langchain_chroma import Chroma\n",
    "from langchain.schema import Document\n",
    "import pandas as pd"
   ],
   "outputs": [],
   "execution_count": 1
  },
  {
   "metadata": {
    "ExecuteTime": {
     "end_time": "2025-09-27T14:23:08.279478Z",
     "start_time": "2025-09-27T14:23:00.921966Z"
    }
   },
   "cell_type": "code",
   "source": [
    "genres = [\"Action\", \"Romance\", \"Horror\", \"Comedy\", \"Drama\", \"Sci-Fi\", \"Fantasy\"]\n",
    "genre_docs = [Document(page_content=g, metadata={\"genre\": g}) for g in genres]\n",
    "db_genres = Chroma.from_documents(\n",
    "    genre_docs,\n",
    "    embedding=HuggingFaceEmbeddings(model_name='all-MiniLM-L6-v2')\n",
    ")\n"
   ],
   "id": "ab4c7204ab11f2c4",
   "outputs": [
    {
     "name": "stderr",
     "output_type": "stream",
     "text": [
      "C:\\Users\\rog\\AppData\\Local\\Temp\\ipykernel_420\\2362264565.py:5: LangChainDeprecationWarning: The class `HuggingFaceEmbeddings` was deprecated in LangChain 0.2.2 and will be removed in 1.0. An updated version of the class exists in the :class:`~langchain-huggingface package and should be used instead. To use it run `pip install -U :class:`~langchain-huggingface` and import as `from :class:`~langchain_huggingface import HuggingFaceEmbeddings``.\n",
      "  embedding=HuggingFaceEmbeddings(model_name='all-MiniLM-L6-v2')\n"
     ]
    }
   ],
   "execution_count": 2
  },
  {
   "metadata": {
    "ExecuteTime": {
     "end_time": "2025-09-27T14:34:36.751182Z",
     "start_time": "2025-09-27T14:34:36.748103Z"
    }
   },
   "cell_type": "code",
   "source": [
    "def most_related_genres_with_scores(description, top_k=7):\n",
    "    results = db_genres.similarity_search_with_score(description, k=top_k)\n",
    "    return [(doc.metadata.get(\"genre\", doc), score) for doc, score in results]"
   ],
   "id": "39e47ff4aa858f8f",
   "outputs": [],
   "execution_count": 39
  },
  {
   "metadata": {
    "ExecuteTime": {
     "end_time": "2025-09-27T14:34:37.737737Z",
     "start_time": "2025-09-27T14:34:37.722181Z"
    }
   },
   "cell_type": "code",
   "source": [
    "movie_description = \"After being bitten by a genetically altered spider at Oscorp, nerdy but endearing high school student Peter Parker is endowed with amazing powers to become the superhero known as Spider-Man.\"\n",
    "predicted_genre = most_related_genres_with_scores(movie_description)\n",
    "print(predicted_genre)"
   ],
   "id": "6eb19bb96c24b666",
   "outputs": [
    {
     "name": "stdout",
     "output_type": "stream",
     "text": [
      "[('Horror', 1.844362497329712), ('Comedy', 1.8628532886505127), ('Sci-Fi', 1.9110047817230225), ('Fantasy', 1.936447262763977), ('Romance', 2.057915449142456), ('Action', 2.078913450241089), ('Drama', 2.1065926551818848)]\n"
     ]
    }
   ],
   "execution_count": 40
  }
 ],
 "metadata": {
  "kernelspec": {
   "display_name": "Python 3",
   "language": "python",
   "name": "python3"
  },
  "language_info": {
   "codemirror_mode": {
    "name": "ipython",
    "version": 2
   },
   "file_extension": ".py",
   "mimetype": "text/x-python",
   "name": "python",
   "nbconvert_exporter": "python",
   "pygments_lexer": "ipython2",
   "version": "2.7.6"
  }
 },
 "nbformat": 4,
 "nbformat_minor": 5
}
